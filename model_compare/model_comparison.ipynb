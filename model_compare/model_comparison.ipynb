{
 "cells": [
  {
   "cell_type": "code",
   "execution_count": 36,
   "metadata": {
    "collapsed": true
   },
   "outputs": [],
   "source": [
    "%matplotlib inline\n",
    "import numpy as np\n",
    "import matplotlib.pyplot as plt\n",
    "import pandas as pd\n",
    "pd.set_option('display.mpl_style', 'default') \n",
    "pd.set_option('display.width', 5000) \n",
    "pd.set_option('display.max_columns', 60)"
   ]
  },
  {
   "cell_type": "code",
   "execution_count": 46,
   "metadata": {
    "collapsed": false
   },
   "outputs": [
    {
     "data": {
      "text/html": [
       "<div>\n",
       "<table border=\"1\" class=\"dataframe\">\n",
       "  <thead>\n",
       "    <tr style=\"text-align: right;\">\n",
       "      <th></th>\n",
       "      <th>iter</th>\n",
       "      <th>coalStatFlat</th>\n",
       "      <th>numCoalFlat</th>\n",
       "      <th>migStatFlat</th>\n",
       "      <th>numMigFlat</th>\n",
       "      <th>logPrior</th>\n",
       "      <th>root_theta</th>\n",
       "      <th>logLikelihood</th>\n",
       "      <th>dataLogLikelihood</th>\n",
       "      <th>genealogyLogLikelihood</th>\n",
       "    </tr>\n",
       "  </thead>\n",
       "  <tbody>\n",
       "    <tr>\n",
       "      <th>0</th>\n",
       "      <td>0</td>\n",
       "      <td>1.563964</td>\n",
       "      <td>7000</td>\n",
       "      <td>0.435464</td>\n",
       "      <td>0</td>\n",
       "      <td>74.385423</td>\n",
       "      <td>0.944200</td>\n",
       "      <td>-1344952.714294</td>\n",
       "      <td>-1407189.645891</td>\n",
       "      <td>-62236.931597</td>\n",
       "    </tr>\n",
       "    <tr>\n",
       "      <th>1</th>\n",
       "      <td>1</td>\n",
       "      <td>1.680680</td>\n",
       "      <td>7000</td>\n",
       "      <td>0.471674</td>\n",
       "      <td>2</td>\n",
       "      <td>74.214795</td>\n",
       "      <td>0.944200</td>\n",
       "      <td>-1343414.298617</td>\n",
       "      <td>-1404960.374097</td>\n",
       "      <td>-61546.075480</td>\n",
       "    </tr>\n",
       "    <tr>\n",
       "      <th>2</th>\n",
       "      <td>2</td>\n",
       "      <td>1.687730</td>\n",
       "      <td>7000</td>\n",
       "      <td>0.470062</td>\n",
       "      <td>4</td>\n",
       "      <td>73.994428</td>\n",
       "      <td>0.986701</td>\n",
       "      <td>-1342433.409935</td>\n",
       "      <td>-1404067.766776</td>\n",
       "      <td>-61634.356841</td>\n",
       "    </tr>\n",
       "    <tr>\n",
       "      <th>3</th>\n",
       "      <td>3</td>\n",
       "      <td>1.765420</td>\n",
       "      <td>7000</td>\n",
       "      <td>0.499956</td>\n",
       "      <td>2</td>\n",
       "      <td>73.983596</td>\n",
       "      <td>0.994815</td>\n",
       "      <td>-1342499.655522</td>\n",
       "      <td>-1403585.805025</td>\n",
       "      <td>-61086.149503</td>\n",
       "    </tr>\n",
       "    <tr>\n",
       "      <th>4</th>\n",
       "      <td>4</td>\n",
       "      <td>1.774833</td>\n",
       "      <td>7000</td>\n",
       "      <td>0.511522</td>\n",
       "      <td>0</td>\n",
       "      <td>73.778319</td>\n",
       "      <td>0.994815</td>\n",
       "      <td>-1342128.188013</td>\n",
       "      <td>-1403220.710703</td>\n",
       "      <td>-61092.522690</td>\n",
       "    </tr>\n",
       "  </tbody>\n",
       "</table>\n",
       "</div>"
      ],
      "text/plain": [
       "   iter  coalStatFlat  numCoalFlat  migStatFlat  numMigFlat   logPrior  root_theta   logLikelihood  dataLogLikelihood  genealogyLogLikelihood\n",
       "0     0      1.563964         7000     0.435464           0  74.385423    0.944200 -1344952.714294    -1407189.645891           -62236.931597\n",
       "1     1      1.680680         7000     0.471674           2  74.214795    0.944200 -1343414.298617    -1404960.374097           -61546.075480\n",
       "2     2      1.687730         7000     0.470062           4  73.994428    0.986701 -1342433.409935    -1404067.766776           -61634.356841\n",
       "3     3      1.765420         7000     0.499956           2  73.983596    0.994815 -1342499.655522    -1403585.805025           -61086.149503\n",
       "4     4      1.774833         7000     0.511522           0  73.778319    0.994815 -1342128.188013    -1403220.710703           -61092.522690"
      ]
     },
     "execution_count": 46,
     "metadata": {},
     "output_type": "execute_result"
    }
   ],
   "source": [
    "flat_coalescence_stats = pd.read_csv('C:\\\\Users\\\\ronvis\\\\Dropbox\\\\Thesis\\\\ModelCompare\\\\code\\\\ModelCompare\\\\simulations\\\\sample\\\\gphocs\\\\data.flatStats.tsv', sep='\\t')\n",
    "flat_coalescence_stats.head()"
   ]
  },
  {
   "cell_type": "code",
   "execution_count": 38,
   "metadata": {
    "collapsed": false
   },
   "outputs": [],
   "source": [
    "flat_coalescence_stats = flat_coalescence_stats[['logPrior','coalStatFlat', 'numCoalFlat', 'root_theta', 'genealogyLogLikelihood' ]]\n",
    "flat_coalescence_stats.columns = ['logPrior','time_stats', 'num_coal', 'root_ϴ', 'P_Z_ϴM' ]\n",
    "\n",
    "printFactor = 10000.0\n",
    "flat_coalescence_stats['root_ϴ'] = flat_coalescence_stats[['root_ϴ']].apply(lambda x:x/printFactor)"
   ]
  },
  {
   "cell_type": "code",
   "execution_count": 39,
   "metadata": {
    "collapsed": true
   },
   "outputs": [],
   "source": [
    "def P_Z_ϴM0(theta, num_coal, time_stats):\n",
    "    result = num_coal*np.log(2.0/theta) -(time_stats/theta)\n",
    "    return result"
   ]
  },
  {
   "cell_type": "code",
   "execution_count": 40,
   "metadata": {
    "collapsed": true
   },
   "outputs": [],
   "source": [
    "flat_coalescence_stats['root_ϴ'] = flat_coalescence_stats[['root_ϴ']].apply(lambda x:x/1000.0)\n",
    "root_ϴ = flat_coalescence_stats['root_ϴ'] \n",
    "num_coal = flat_coalescence_stats['num_coal'] \n",
    "time_stats = flat_coalescence_stats['time_stats']\n",
    "\n",
    "flat_coalescence_stats['P_Z_ϴM0'] = P_Z_ϴM0(root_ϴ, num_coal, time_stats)"
   ]
  },
  {
   "cell_type": "code",
   "execution_count": 41,
   "metadata": {
    "collapsed": false
   },
   "outputs": [
    {
     "data": {
      "text/plain": [
       "<matplotlib.axes._subplots.AxesSubplot at 0x1d5ec9b6d8>"
      ]
     },
     "execution_count": 41,
     "metadata": {},
     "output_type": "execute_result"
    },
    {
     "data": {
      "image/png": "[encoded data removed]",
      "text/plain": [
       "<matplotlib.figure.Figure at 0x1d577f5518>"
      ]
     },
     "metadata": {},
     "output_type": "display_data"
    }
   ],
   "source": [
    "flat_coalescence_stats['P_Z_ϴM0'].plot()"
   ]
  },
  {
   "cell_type": "code",
   "execution_count": 42,
   "metadata": {
    "collapsed": false
   },
   "outputs": [
    {
     "data": {
      "text/plain": [
       "<matplotlib.axes._subplots.AxesSubplot at 0x1d5785d0f0>"
      ]
     },
     "execution_count": 42,
     "metadata": {},
     "output_type": "execute_result"
    },
    {
     "data": {
      "image/png": "[encoded data removed]",
      "text/plain": [
       "<matplotlib.figure.Figure at 0x1d578d2400>"
      ]
     },
     "metadata": {},
     "output_type": "display_data"
    }
   ],
   "source": [
    "flat_coalescence_stats['P_Z_ϴM'].plot()"
   ]
  },
  {
   "cell_type": "code",
   "execution_count": 43,
   "metadata": {
    "collapsed": false
   },
   "outputs": [
    {
     "data": {
      "text/html": [
       "<div>\n",
       "<table border=\"1\" class=\"dataframe\">\n",
       "  <thead>\n",
       "    <tr style=\"text-align: right;\">\n",
       "      <th></th>\n",
       "      <th>logPrior</th>\n",
       "      <th>time_stats</th>\n",
       "      <th>num_coal</th>\n",
       "      <th>root_ϴ</th>\n",
       "      <th>P_Z_ϴM</th>\n",
       "      <th>P_Z_ϴM0</th>\n",
       "    </tr>\n",
       "  </thead>\n",
       "  <tbody>\n",
       "    <tr>\n",
       "      <th>count</th>\n",
       "      <td>200.000000</td>\n",
       "      <td>200.000000</td>\n",
       "      <td>200</td>\n",
       "      <td>2.000000e+02</td>\n",
       "      <td>200.000000</td>\n",
       "      <td>200.000000</td>\n",
       "    </tr>\n",
       "    <tr>\n",
       "      <th>mean</th>\n",
       "      <td>62.325799</td>\n",
       "      <td>3.735325</td>\n",
       "      <td>7000</td>\n",
       "      <td>3.799498e-07</td>\n",
       "      <td>-54824.245752</td>\n",
       "      <td>-10793910.315791</td>\n",
       "    </tr>\n",
       "    <tr>\n",
       "      <th>std</th>\n",
       "      <td>5.256136</td>\n",
       "      <td>0.832373</td>\n",
       "      <td>0</td>\n",
       "      <td>1.417645e-07</td>\n",
       "      <td>2409.797713</td>\n",
       "      <td>2961707.028895</td>\n",
       "    </tr>\n",
       "    <tr>\n",
       "      <th>min</th>\n",
       "      <td>55.940517</td>\n",
       "      <td>1.563964</td>\n",
       "      <td>7000</td>\n",
       "      <td>9.442000e-08</td>\n",
       "      <td>-62236.931597</td>\n",
       "      <td>-18120230.873085</td>\n",
       "    </tr>\n",
       "    <tr>\n",
       "      <th>25%</th>\n",
       "      <td>58.458435</td>\n",
       "      <td>3.358259</td>\n",
       "      <td>7000</td>\n",
       "      <td>2.817305e-07</td>\n",
       "      <td>-55612.762435</td>\n",
       "      <td>-11724770.022018</td>\n",
       "    </tr>\n",
       "    <tr>\n",
       "      <th>50%</th>\n",
       "      <td>60.145245</td>\n",
       "      <td>4.128891</td>\n",
       "      <td>7000</td>\n",
       "      <td>4.202585e-07</td>\n",
       "      <td>-53682.446424</td>\n",
       "      <td>-9710753.191845</td>\n",
       "    </tr>\n",
       "    <tr>\n",
       "      <th>75%</th>\n",
       "      <td>64.977886</td>\n",
       "      <td>4.374220</td>\n",
       "      <td>7000</td>\n",
       "      <td>4.971412e-07</td>\n",
       "      <td>-53110.958501</td>\n",
       "      <td>-8606216.858891</td>\n",
       "    </tr>\n",
       "    <tr>\n",
       "      <th>max</th>\n",
       "      <td>74.385423</td>\n",
       "      <td>4.624727</td>\n",
       "      <td>7000</td>\n",
       "      <td>5.521808e-07</td>\n",
       "      <td>-52533.675516</td>\n",
       "      <td>-7868647.181116</td>\n",
       "    </tr>\n",
       "  </tbody>\n",
       "</table>\n",
       "</div>"
      ],
      "text/plain": [
       "         logPrior  time_stats  num_coal        root_ϴ        P_Z_ϴM          P_Z_ϴM0\n",
       "count  200.000000  200.000000       200  2.000000e+02    200.000000       200.000000\n",
       "mean    62.325799    3.735325      7000  3.799498e-07 -54824.245752 -10793910.315791\n",
       "std      5.256136    0.832373         0  1.417645e-07   2409.797713   2961707.028895\n",
       "min     55.940517    1.563964      7000  9.442000e-08 -62236.931597 -18120230.873085\n",
       "25%     58.458435    3.358259      7000  2.817305e-07 -55612.762435 -11724770.022018\n",
       "50%     60.145245    4.128891      7000  4.202585e-07 -53682.446424  -9710753.191845\n",
       "75%     64.977886    4.374220      7000  4.971412e-07 -53110.958501  -8606216.858891\n",
       "max     74.385423    4.624727      7000  5.521808e-07 -52533.675516  -7868647.181116"
      ]
     },
     "execution_count": 43,
     "metadata": {},
     "output_type": "execute_result"
    }
   ],
   "source": [
    "flat_coalescence_stats.describe()"
   ]
  },
  {
   "cell_type": "code",
   "execution_count": 44,
   "metadata": {
    "collapsed": false
   },
   "outputs": [
    {
     "data": {
      "text/html": [
       "<div>\n",
       "<table border=\"1\" class=\"dataframe\">\n",
       "  <thead>\n",
       "    <tr style=\"text-align: right;\">\n",
       "      <th></th>\n",
       "      <th>logPrior</th>\n",
       "      <th>time_stats</th>\n",
       "      <th>num_coal</th>\n",
       "      <th>root_ϴ</th>\n",
       "      <th>P_Z_ϴM</th>\n",
       "      <th>P_Z_ϴM0</th>\n",
       "    </tr>\n",
       "  </thead>\n",
       "  <tbody>\n",
       "    <tr>\n",
       "      <th>0</th>\n",
       "      <td>74.385423</td>\n",
       "      <td>1.563964</td>\n",
       "      <td>7000</td>\n",
       "      <td>9.442000e-08</td>\n",
       "      <td>-62236.931597</td>\n",
       "      <td>-16445825.331412</td>\n",
       "    </tr>\n",
       "    <tr>\n",
       "      <th>1</th>\n",
       "      <td>74.214795</td>\n",
       "      <td>1.680680</td>\n",
       "      <td>7000</td>\n",
       "      <td>9.442000e-08</td>\n",
       "      <td>-61546.075480</td>\n",
       "      <td>-17681961.743189</td>\n",
       "    </tr>\n",
       "    <tr>\n",
       "      <th>2</th>\n",
       "      <td>73.994428</td>\n",
       "      <td>1.687730</td>\n",
       "      <td>7000</td>\n",
       "      <td>9.867010e-08</td>\n",
       "      <td>-61634.356841</td>\n",
       "      <td>-16987004.004245</td>\n",
       "    </tr>\n",
       "    <tr>\n",
       "      <th>3</th>\n",
       "      <td>73.983596</td>\n",
       "      <td>1.765420</td>\n",
       "      <td>7000</td>\n",
       "      <td>9.948150e-08</td>\n",
       "      <td>-61086.149503</td>\n",
       "      <td>-17628499.030971</td>\n",
       "    </tr>\n",
       "    <tr>\n",
       "      <th>4</th>\n",
       "      <td>73.778319</td>\n",
       "      <td>1.774833</td>\n",
       "      <td>7000</td>\n",
       "      <td>9.948150e-08</td>\n",
       "      <td>-61092.522690</td>\n",
       "      <td>-17723119.638823</td>\n",
       "    </tr>\n",
       "  </tbody>\n",
       "</table>\n",
       "</div>"
      ],
      "text/plain": [
       "    logPrior  time_stats  num_coal        root_ϴ        P_Z_ϴM          P_Z_ϴM0\n",
       "0  74.385423    1.563964      7000  9.442000e-08 -62236.931597 -16445825.331412\n",
       "1  74.214795    1.680680      7000  9.442000e-08 -61546.075480 -17681961.743189\n",
       "2  73.994428    1.687730      7000  9.867010e-08 -61634.356841 -16987004.004245\n",
       "3  73.983596    1.765420      7000  9.948150e-08 -61086.149503 -17628499.030971\n",
       "4  73.778319    1.774833      7000  9.948150e-08 -61092.522690 -17723119.638823"
      ]
     },
     "execution_count": 44,
     "metadata": {},
     "output_type": "execute_result"
    }
   ],
   "source": [
    "flat_coalescence_stats.head()"
   ]
  },
  {
   "cell_type": "code",
   "execution_count": 45,
   "metadata": {
    "collapsed": false
   },
   "outputs": [
    {
     "data": {
      "text/html": [
       "<div>\n",
       "<table border=\"1\" class=\"dataframe\">\n",
       "  <thead>\n",
       "    <tr style=\"text-align: right;\">\n",
       "      <th></th>\n",
       "      <th>logPrior</th>\n",
       "      <th>time_stats</th>\n",
       "      <th>num_coal</th>\n",
       "      <th>root_ϴ</th>\n",
       "      <th>P_Z_ϴM</th>\n",
       "      <th>P_Z_ϴM0</th>\n",
       "    </tr>\n",
       "  </thead>\n",
       "  <tbody>\n",
       "    <tr>\n",
       "      <th>153</th>\n",
       "      <td>58.758464</td>\n",
       "      <td>4.624727</td>\n",
       "      <td>7000</td>\n",
       "      <td>5.161548e-07</td>\n",
       "      <td>-52533.675516</td>\n",
       "      <td>-8853771.192356</td>\n",
       "    </tr>\n",
       "    <tr>\n",
       "      <th>147</th>\n",
       "      <td>58.707996</td>\n",
       "      <td>4.532134</td>\n",
       "      <td>7000</td>\n",
       "      <td>5.376243e-07</td>\n",
       "      <td>-52695.707917</td>\n",
       "      <td>-8324022.968302</td>\n",
       "    </tr>\n",
       "    <tr>\n",
       "      <th>149</th>\n",
       "      <td>59.082735</td>\n",
       "      <td>4.544514</td>\n",
       "      <td>7000</td>\n",
       "      <td>5.350988e-07</td>\n",
       "      <td>-52702.579233</td>\n",
       "      <td>-8386912.561017</td>\n",
       "    </tr>\n",
       "    <tr>\n",
       "      <th>144</th>\n",
       "      <td>59.008548</td>\n",
       "      <td>4.559043</td>\n",
       "      <td>7000</td>\n",
       "      <td>5.405149e-07</td>\n",
       "      <td>-52713.462022</td>\n",
       "      <td>-8328762.410961</td>\n",
       "    </tr>\n",
       "    <tr>\n",
       "      <th>154</th>\n",
       "      <td>58.498065</td>\n",
       "      <td>4.527712</td>\n",
       "      <td>7000</td>\n",
       "      <td>5.098125e-07</td>\n",
       "      <td>-52719.800405</td>\n",
       "      <td>-8774855.198603</td>\n",
       "    </tr>\n",
       "  </tbody>\n",
       "</table>\n",
       "</div>"
      ],
      "text/plain": [
       "      logPrior  time_stats  num_coal        root_ϴ        P_Z_ϴM         P_Z_ϴM0\n",
       "153  58.758464    4.624727      7000  5.161548e-07 -52533.675516 -8853771.192356\n",
       "147  58.707996    4.532134      7000  5.376243e-07 -52695.707917 -8324022.968302\n",
       "149  59.082735    4.544514      7000  5.350988e-07 -52702.579233 -8386912.561017\n",
       "144  59.008548    4.559043      7000  5.405149e-07 -52713.462022 -8328762.410961\n",
       "154  58.498065    4.527712      7000  5.098125e-07 -52719.800405 -8774855.198603"
      ]
     },
     "execution_count": 45,
     "metadata": {},
     "output_type": "execute_result"
    }
   ],
   "source": [
    "flat_coalescence_stats.sort_values(by='P_Z_ϴM', ascending=False).head()"
   ]
  },
  {
   "cell_type": "code",
   "execution_count": null,
   "metadata": {
    "collapsed": true
   },
   "outputs": [],
   "source": []
  }
 ],
 "metadata": {
  "kernelspec": {
   "display_name": "Python 3",
   "language": "python",
   "name": "python3"
  },
  "language_info": {
   "codemirror_mode": {
    "name": "ipython",
    "version": 3
   },
   "file_extension": ".py",
   "mimetype": "text/x-python",
   "name": "python",
   "nbconvert_exporter": "python",
   "pygments_lexer": "ipython3",
   "version": "3.5.0"
  }
 },
 "nbformat": 4,
 "nbformat_minor": 0
}
